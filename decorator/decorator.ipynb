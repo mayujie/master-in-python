{
 "cells": [
  {
   "cell_type": "markdown",
   "id": "pursuant-baltimore",
   "metadata": {},
   "source": [
    "# stack @decorator\n",
    "https://www.youtube.com/watch?v=A10RHUCVw6A&ab_channel=anthonywritescode"
   ]
  },
  {
   "cell_type": "code",
   "execution_count": 3,
   "id": "known-ultimate",
   "metadata": {},
   "outputs": [
    {
     "name": "stdout",
     "output_type": "stream",
     "text": [
      "calling dec 1\n",
      "calling dec_decorator 1\n",
      "calling dec_inner 1\n",
      "inside f: hello hello world\n"
     ]
    }
   ],
   "source": [
    "import functools\n",
    "\n",
    "def dec(x: int):\n",
    "    print(f'calling dec {x}')\n",
    "    \n",
    "    def dec_decorator(func):\n",
    "        print(f'calling dec_decorator {x}')\n",
    "        \n",
    "        @functools.wraps(func)\n",
    "        def dec_inner(*args, **kwargs):\n",
    "            print(f'calling dec_inner {x}')\n",
    "            \n",
    "            return func(*args, **kwargs)\n",
    "        \n",
    "        return dec_inner\n",
    "\n",
    "    return dec_decorator\n",
    "\n",
    "@dec(1) # call 1st, return dec_decorator\n",
    "def f(s): # call 2nd, dec_decorator call with f() as input\n",
    "    print(f'inside f: {s}')\n",
    "    \n",
    "f('hello hello world') # call 3rd then print args inside f()"
   ]
  },
  {
   "cell_type": "markdown",
   "id": "iraqi-victim",
   "metadata": {},
   "source": [
    "syntax as above\n",
    "```python\n",
    "tmp = dec(1)\n",
    "f = tmp(f)\n",
    "```"
   ]
  },
  {
   "cell_type": "code",
   "execution_count": 15,
   "id": "decimal-theater",
   "metadata": {
    "scrolled": true
   },
   "outputs": [
    {
     "name": "stdout",
     "output_type": "stream",
     "text": [
      "calling dec 1\n",
      "calling dec 2\n",
      "calling dec_decorator 2\n",
      "calling dec_decorator 1\n",
      "calling dec_inner 1\n",
      "calling dec_inner 2\n",
      "inside f: hello hello world\n"
     ]
    }
   ],
   "source": [
    "@dec(1) # call 1st\n",
    "@dec(2) # call 2nd \n",
    "def f(s): # f function gets defined\n",
    "    # print('calling dec_inner 1') # then calling 1st dec next, the f () with dec(2) will pass into dec(1)\n",
    "    # print('calling dec_inner 2') # then calling 2nd dec 1st\n",
    "    print(f'inside f: {s}')\n",
    "    \n",
    "f('hello hello world')\n",
    "\n",
    "# basically is down -> up -> down"
   ]
  },
  {
   "cell_type": "code",
   "execution_count": 16,
   "id": "severe-macedonia",
   "metadata": {},
   "outputs": [
    {
     "name": "stdout",
     "output_type": "stream",
     "text": [
      "calling dec 1\n",
      "calling dec 2\n",
      "calling dec 3\n",
      "calling dec_decorator 3\n",
      "calling dec_decorator 2\n",
      "calling dec_decorator 1\n",
      "calling dec_inner 1\n",
      "calling dec_inner 2\n",
      "calling dec_inner 3\n",
      "inside f: hello hello world\n"
     ]
    }
   ],
   "source": [
    "@dec(1)\n",
    "@dec(2)\n",
    "@dec(3)\n",
    "def f(s):\n",
    "    print(f'inside f: {s}')\n",
    "    \n",
    "f('hello hello world')"
   ]
  },
  {
   "cell_type": "markdown",
   "id": "virgin-meditation",
   "metadata": {},
   "source": [
    "# decorator intermediate\n",
    "https://www.youtube.com/watch?v=WDMr6WolKUM&t=443s&ab_channel=anthonywritescode"
   ]
  },
  {
   "cell_type": "code",
   "execution_count": 90,
   "id": "rocky-wednesday",
   "metadata": {},
   "outputs": [
    {
     "name": "stdout",
     "output_type": "stream",
     "text": [
      "own dec\n",
      "hello 1\n"
     ]
    }
   ],
   "source": [
    "# define own decorator\n",
    "def dec(func):\n",
    "    print('own dec')\n",
    "    return func\n",
    "\n",
    "@dec\n",
    "def f(x):\n",
    "    print(f'hello {x}')\n",
    "    \n",
    "f(1)"
   ]
  },
  {
   "cell_type": "code",
   "execution_count": 91,
   "id": "raised-boring",
   "metadata": {},
   "outputs": [
    {
     "name": "stdout",
     "output_type": "stream",
     "text": [
      "own dec\n",
      "hello 2\n"
     ]
    }
   ],
   "source": [
    "# above equal to here\n",
    "def f_0(x):\n",
    "    print(f'hello {x}')\n",
    "\n",
    "f = dec(f)\n",
    "f(2)"
   ]
  },
  {
   "cell_type": "code",
   "execution_count": 92,
   "id": "underlying-single",
   "metadata": {},
   "outputs": [
    {
     "name": "stdout",
     "output_type": "stream",
     "text": [
      "own dec\n",
      "got (3,) {}\n",
      "hello 3\n",
      "after\n"
     ]
    }
   ],
   "source": [
    "def dec(func):\n",
    "    print('own dec')\n",
    "    def dec_inner(*args, **kwargs):\n",
    "        print(f'got {args} {kwargs}')\n",
    "        ret = func(*args, **kwargs)\n",
    "        print('after')\n",
    "        return ret\n",
    "    return dec_inner\n",
    "\n",
    "@dec\n",
    "def f(x):\n",
    "    print(f'hello {x}')\n",
    "\n",
    "f(3)"
   ]
  },
  {
   "cell_type": "code",
   "execution_count": 76,
   "id": "sustained-donor",
   "metadata": {},
   "outputs": [
    {
     "name": "stdout",
     "output_type": "stream",
     "text": [
      "own dec\n",
      "got (4,) {}\n",
      "hello 4\n",
      "after\n"
     ]
    }
   ],
   "source": [
    "import functools\n",
    "\n",
    "def dec(func):\n",
    "    print('own dec')\n",
    "    @functools.wraps(func) # a function that returns a decorator, preserve some of the attributes on the functions\n",
    "    def dec_inner(*args, **kwargs):\n",
    "        print(f'got {args} {kwargs}')\n",
    "        ret = func(*args, **kwargs)\n",
    "        print('after')\n",
    "        return ret\n",
    "    return dec_inner\n",
    "\n",
    "@dec\n",
    "def f(x):\n",
    "    print(f'hello {x}')\n",
    "\n",
    "f(4)"
   ]
  },
  {
   "cell_type": "code",
   "execution_count": 77,
   "id": "special-bones",
   "metadata": {},
   "outputs": [
    {
     "name": "stdout",
     "output_type": "stream",
     "text": [
      "hello\n",
      "hi 5\n",
      "goodbye\n"
     ]
    }
   ],
   "source": [
    "def dec_2(greeting, farewell):\n",
    "    def dec2_decorator(func):\n",
    "        @functools.wraps(func) \n",
    "        def dec2_inner(*args, **kwargs):\n",
    "            print(greeting)\n",
    "            ret = func(*args, **kwargs)\n",
    "            print(farewell)\n",
    "            return ret\n",
    "        return dec2_inner\n",
    "    return dec2_decorator\n",
    "\n",
    "@dec_2('hello', 'goodbye')\n",
    "def f(x: int) -> None:\n",
    "    \"\"\"this is the docstring\"\"\"\n",
    "    print(f'hi {x}')\n",
    "\n",
    "f(5)"
   ]
  },
  {
   "cell_type": "code",
   "execution_count": 89,
   "id": "breathing-vessel",
   "metadata": {},
   "outputs": [
    {
     "name": "stdout",
     "output_type": "stream",
     "text": [
      "in property y\n",
      "10\n",
      "normal function\n",
      "normal function\n",
      "in class <class '__main__.C'>\n",
      "in class <class '__main__.C'>\n",
      "in class <class '__main__.C'>\n"
     ]
    }
   ],
   "source": [
    "class C:\n",
    "    def __init__(self, x):\n",
    "        self.x = x\n",
    "    \n",
    "    @property\n",
    "    def y(self):\n",
    "        print('in property y')\n",
    "        return self.x + 5\n",
    "    \n",
    "    @classmethod\n",
    "    def from_func(cls):\n",
    "        print(f'in class {cls}')\n",
    "    \n",
    "    @staticmethod\n",
    "    def func():\n",
    "        print('normal function')\n",
    "        \n",
    "c = C(5) # classmethod\n",
    "print(c.y)\n",
    "C.func()\n",
    "c.func()\n",
    "C(1).from_func()\n",
    "C.from_func()\n",
    "c.from_func()"
   ]
  },
  {
   "cell_type": "markdown",
   "id": "quantitative-beginning",
   "metadata": {},
   "source": [
    "# @property decorator (beginner - intermediate) \n",
    "https://www.youtube.com/watch?v=orp6bhe4i00&t=683s&ab_channel=anthonywritescode"
   ]
  },
  {
   "cell_type": "code",
   "execution_count": null,
   "id": "polyphonic-shelter",
   "metadata": {
    "scrolled": true
   },
   "outputs": [],
   "source": []
  },
  {
   "cell_type": "code",
   "execution_count": null,
   "id": "athletic-military",
   "metadata": {},
   "outputs": [],
   "source": []
  },
  {
   "cell_type": "markdown",
   "id": "urban-continuity",
   "metadata": {},
   "source": [
    "# class-based @decorators (intermediate - advanced)\n",
    "https://www.youtube.com/watch?v=hTLDC9H1b4Q&t=3s&ab_channel=anthonywritescode"
   ]
  },
  {
   "cell_type": "code",
   "execution_count": null,
   "id": "fewer-phrase",
   "metadata": {},
   "outputs": [],
   "source": []
  },
  {
   "cell_type": "code",
   "execution_count": null,
   "id": "forced-person",
   "metadata": {},
   "outputs": [],
   "source": []
  },
  {
   "cell_type": "markdown",
   "id": "suffering-letters",
   "metadata": {},
   "source": [
    "# @staticmethod / @classmethod (beginner + advanced) \n",
    "https://www.youtube.com/watch?v=yhkpRz7TC7o&t=2s&ab_channel=anthonywritescode"
   ]
  },
  {
   "cell_type": "code",
   "execution_count": null,
   "id": "moderate-forty",
   "metadata": {},
   "outputs": [],
   "source": []
  },
  {
   "cell_type": "code",
   "execution_count": null,
   "id": "lasting-privilege",
   "metadata": {},
   "outputs": [],
   "source": []
  },
  {
   "cell_type": "markdown",
   "id": "least-offer",
   "metadata": {},
   "source": [
    "https://www.youtube.com/watch?v=TeDlx2Klij0&t=86s&ab_channel=BroCode\n",
    "\n",
    "https://www.youtube.com/watch?v=FsAPt_9Bf3U&t=72s&ab_channel=CoreySchafer\n",
    "\n",
    "https://www.youtube.com/watch?v=upmOAPk2cK8&t=24s&ab_channel=SebastiaanMath%C3%B4t\n"
   ]
  },
  {
   "cell_type": "code",
   "execution_count": null,
   "id": "induced-patrick",
   "metadata": {},
   "outputs": [],
   "source": []
  },
  {
   "cell_type": "code",
   "execution_count": null,
   "id": "collective-fever",
   "metadata": {},
   "outputs": [],
   "source": []
  }
 ],
 "metadata": {
  "kernelspec": {
   "display_name": "Python 3",
   "language": "python",
   "name": "python3"
  },
  "language_info": {
   "codemirror_mode": {
    "name": "ipython",
    "version": 3
   },
   "file_extension": ".py",
   "mimetype": "text/x-python",
   "name": "python",
   "nbconvert_exporter": "python",
   "pygments_lexer": "ipython3",
   "version": "3.8.10"
  }
 },
 "nbformat": 4,
 "nbformat_minor": 5
}
